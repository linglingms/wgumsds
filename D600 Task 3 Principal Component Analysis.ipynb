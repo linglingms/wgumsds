{
 "cells": [
  {
   "cell_type": "markdown",
   "metadata": {},
   "source": [
    "# D600 Task 3 Principal Component Analysis "
   ]
  },
  {
   "cell_type": "code",
   "execution_count": 3,
   "metadata": {},
   "outputs": [
    {
     "name": "stdout",
     "output_type": "stream",
     "text": [
      "Dataset Loaded Successfully!\n",
      "     ID        Price  SquareFootage  NumBathrooms  NumBedrooms  BackyardSpace  \\\n",
      "0  4922  255614.8992         566.62      1.000000            4         779.42   \n",
      "1  5009  155586.0947        1472.34      1.000000            2         656.13   \n",
      "2  4450  131050.8324         550.00      1.779354            3         754.57   \n",
      "3  1070  151361.7125         941.81      2.035254            2         439.59   \n",
      "4   400  113167.6128         550.00      1.064644            3         353.03   \n",
      "\n",
      "   CrimeRate  SchoolRating  AgeOfHome  DistanceToCityCenter  ...  \\\n",
      "0      20.56          5.62      39.46                 10.08  ...   \n",
      "1      15.62          5.63      40.51                  7.89  ...   \n",
      "2      12.47          9.20      48.38                 23.74  ...   \n",
      "3      22.22          7.08      94.67                  5.22  ...   \n",
      "4       8.28          5.93      16.80                 43.13  ...   \n",
      "\n",
      "   RenovationQuality  LocalAmenities  TransportAccess  Fireplace  HouseColor  \\\n",
      "0               4.93            4.44             4.55        Yes        Blue   \n",
      "1               4.08            5.56             6.83         No       Green   \n",
      "2               4.26            8.07             8.48        Yes       Green   \n",
      "3               4.45            5.00             6.27        Yes         Red   \n",
      "4               3.36            5.46             6.99         No       White   \n",
      "\n",
      "  Garage Floors Windows  PreviousSalePrice  IsLuxury  \n",
      "0     No      1      13       181861.54230         0  \n",
      "1     No      1      17        50042.59757         0  \n",
      "2    Yes      2      34        48400.34440         0  \n",
      "3     No      1      14        84594.12145         0  \n",
      "4    Yes      1      21        22934.59654         0  \n",
      "\n",
      "[5 rows x 22 columns]\n"
     ]
    }
   ],
   "source": [
    "# Import necessary librariess\n",
    "import pandas as pd\n",
    "\n",
    "# Load the Excel file\n",
    "file_path = \"D600 Task 3 Dataset 1 Housing Information.xlsx\" \n",
    "df = pd.read_excel(file_path)\n",
    "\n",
    "# Display the first few rows of the dataset\n",
    "print(\"Dataset Loaded Successfully!\")\n",
    "print(df.head())"
   ]
  },
  {
   "cell_type": "code",
   "execution_count": 4,
   "metadata": {},
   "outputs": [
    {
     "name": "stdout",
     "output_type": "stream",
     "text": [
      "   SquareFootage  NumBathrooms  BackyardSpace  CrimeRate  SchoolRating  \\\n",
      "0      -1.132277     -1.187828       0.957151  -0.591776     -0.700696   \n",
      "1       0.993926     -1.187828       0.516683  -0.865854     -0.695399   \n",
      "2      -1.171293     -0.369602       0.868372  -1.040621      1.195478   \n",
      "3      -0.251508     -0.100938      -0.256932  -0.499677      0.072604   \n",
      "4      -1.171293     -1.119960      -0.566178  -1.273088     -0.536502   \n",
      "\n",
      "   AgeOfHome  DistanceToCityCenter  EmploymentRate  PropertyTaxRate  \\\n",
      "0  -0.230889             -0.615042        0.794367         0.681094   \n",
      "1  -0.197846             -0.797175       -0.109066        -1.104064   \n",
      "2   0.049814              0.521008        0.641205         0.741268   \n",
      "3   1.506508             -1.019229       -0.501960        -0.101167   \n",
      "4  -0.943973              2.133599       -1.600730        -0.482268   \n",
      "\n",
      "   RenovationQuality  LocalAmenities  TransportAccess  PreviousSalePrice  \\\n",
      "0          -0.037232       -0.562349        -0.733870          -0.552700   \n",
      "1          -0.468641       -0.140939         0.433066          -1.262469   \n",
      "2          -0.377284        0.803473         1.277560          -1.271312   \n",
      "3          -0.280851       -0.351644         0.146450          -1.076429   \n",
      "4          -0.834070       -0.178565         0.514957          -1.408430   \n",
      "\n",
      "         Price  \n",
      "0  255614.8992  \n",
      "1  155586.0947  \n",
      "2  131050.8324  \n",
      "3  151361.7125  \n",
      "4  113167.6128  \n"
     ]
    }
   ],
   "source": [
    "from sklearn.preprocessing import StandardScaler\n",
    "\n",
    "# Independent variables (exclude 'Price')\n",
    "# Updated list of continuous variables (excluding NumBedrooms, Floors, and Windows)\n",
    "continuous_vars = [\n",
    "    'SquareFootage', 'NumBathrooms', 'BackyardSpace', 'CrimeRate',\n",
    "    'SchoolRating', 'AgeOfHome', 'DistanceToCityCenter', 'EmploymentRate',\n",
    "    'PropertyTaxRate', 'RenovationQuality', 'LocalAmenities', 'TransportAccess',\n",
    "    'PreviousSalePrice'\n",
    "]\n",
    "X = df[continuous_vars]\n",
    "y = df['Price']\n",
    "\n",
    "# Standardize the independent variables\n",
    "scaler = StandardScaler()\n",
    "X_standardized = scaler.fit_transform(X)\n",
    "X_standardized_df = pd.DataFrame(X_standardized, columns=continuous_vars)\n",
    "\n",
    "# Save the cleaned dataset (standardized X and original y)\n",
    "cleaned_dataset = pd.concat([X_standardized_df, y.reset_index(drop=True)], axis=1)\n",
    "cleaned_dataset.to_csv('cleaned_datasetd599task3.csv', index=False)\n",
    "print(cleaned_dataset.head())"
   ]
  },
  {
   "cell_type": "code",
   "execution_count": 5,
   "metadata": {},
   "outputs": [
    {
     "name": "stdout",
     "output_type": "stream",
     "text": [
      "Descriptive Statistics for All Independent Variables:\n",
      "                       count           mean            std          min  \\\n",
      "SquareFootage         7000.0    1048.947459     426.010482   550.000000   \n",
      "NumBathrooms          7000.0       2.131397       0.952561     1.000000   \n",
      "BackyardSpace         7000.0     511.507029     279.926549     0.390000   \n",
      "CrimeRate             7000.0      31.226194      18.025327     0.030000   \n",
      "SchoolRating          7000.0       6.942923       1.888148     0.220000   \n",
      "AgeOfHome             7000.0      46.797046      31.779701     0.010000   \n",
      "DistanceToCityCenter  7000.0      17.475337      12.024985     0.000000   \n",
      "EmploymentRate        7000.0      93.711349       4.505359    72.050000   \n",
      "PropertyTaxRate       7000.0       1.500437       0.498591     0.010000   \n",
      "RenovationQuality     7000.0       5.003357       1.970428     0.010000   \n",
      "LocalAmenities        7000.0       5.934579       2.657930     0.000000   \n",
      "TransportAccess       7000.0       5.983860       1.953974     0.010000   \n",
      "PreviousSalePrice     7000.0  284509.353128  185734.016770 -8356.902464   \n",
      "\n",
      "                                25%            50%            75%  \\\n",
      "SquareFootage            660.815000     996.320000    1342.292500   \n",
      "NumBathrooms               1.290539       1.997774       2.763997   \n",
      "BackyardSpace            300.995000     495.965000     704.012500   \n",
      "CrimeRate                 17.390000      30.385000      43.670000   \n",
      "SchoolRating               5.650000       7.010000       8.360000   \n",
      "AgeOfHome                 20.755000      42.620000      67.232500   \n",
      "DistanceToCityCenter       7.827500      15.625000      25.222500   \n",
      "EmploymentRate            90.620000      94.010000      97.410000   \n",
      "PropertyTaxRate            1.160000       1.490000       1.840000   \n",
      "RenovationQuality          3.660000       5.020000       6.350000   \n",
      "LocalAmenities             4.000000       6.040000       8.050000   \n",
      "TransportAccess            4.680000       6.000000       7.350000   \n",
      "PreviousSalePrice     142013.977225  262183.133450  396121.169350   \n",
      "\n",
      "                               max         range  \n",
      "SquareFootage         2.874700e+03  2.324700e+03  \n",
      "NumBathrooms          5.807239e+00  4.807239e+00  \n",
      "BackyardSpace         1.631360e+03  1.630970e+03  \n",
      "CrimeRate             9.973000e+01  9.970000e+01  \n",
      "SchoolRating          1.000000e+01  9.780000e+00  \n",
      "AgeOfHome             1.786800e+02  1.786700e+02  \n",
      "DistanceToCityCenter  6.520000e+01  6.520000e+01  \n",
      "EmploymentRate        9.990000e+01  2.785000e+01  \n",
      "PropertyTaxRate       3.360000e+00  3.350000e+00  \n",
      "RenovationQuality     1.000000e+01  9.990000e+00  \n",
      "LocalAmenities        1.000000e+01  1.000000e+01  \n",
      "TransportAccess       1.000000e+01  9.990000e+00  \n",
      "PreviousSalePrice     1.296607e+06  1.304964e+06  \n",
      "\n",
      "Mode for All Independent Variables:\n",
      "SquareFootage            550.000000\n",
      "NumBathrooms               1.000000\n",
      "BackyardSpace            300.080000\n",
      "CrimeRate                 34.010000\n",
      "SchoolRating              10.000000\n",
      "AgeOfHome                 18.180000\n",
      "DistanceToCityCenter       8.290000\n",
      "EmploymentRate            99.900000\n",
      "PropertyTaxRate            1.430000\n",
      "RenovationQuality         10.000000\n",
      "LocalAmenities            10.000000\n",
      "TransportAccess           10.000000\n",
      "PreviousSalePrice      -8356.902464\n",
      "Name: 0, dtype: float64\n",
      "\n",
      "Descriptive Statistics for Dependent Variable (Price):\n",
      "count    7.000000e+03\n",
      "mean     3.072820e+05\n",
      "std      1.501734e+05\n",
      "min      8.500000e+04\n",
      "25%      1.921075e+05\n",
      "50%      2.793230e+05\n",
      "75%      3.918781e+05\n",
      "max      1.046676e+06\n",
      "Name: Price, dtype: float64\n",
      "Mode for Price: 85000.0\n"
     ]
    }
   ],
   "source": [
    "# Descriptive statistics for all independent variables\n",
    "descriptive_stats = df[continuous_vars].describe().T\n",
    "descriptive_stats['range'] = descriptive_stats['max'] - descriptive_stats['min']\n",
    "print(\"Descriptive Statistics for All Independent Variables:\")\n",
    "print(descriptive_stats)\n",
    "\n",
    "# Mode for each variable\n",
    "modes = df[continuous_vars].mode().iloc[0]\n",
    "print(\"\\nMode for All Independent Variables:\")\n",
    "print(modes)\n",
    "\n",
    "# Descriptive statistics for the dependent variable (Price)\n",
    "print(\"\\nDescriptive Statistics for Dependent Variable (Price):\")\n",
    "print(df['Price'].describe())\n",
    "print(\"Mode for Price:\", df['Price'].mode().iloc[0])\n"
   ]
  },
  {
   "cell_type": "code",
   "execution_count": 6,
   "metadata": {},
   "outputs": [
    {
     "name": "stdout",
     "output_type": "stream",
     "text": [
      "Principal Component Loadings (Matrix):\n",
      "                           PC1       PC2       PC3       PC4       PC5  \\\n",
      "SquareFootage         0.355053 -0.192905  0.243117  0.068597  0.011815   \n",
      "NumBathrooms          0.306842 -0.206168  0.231782  0.029927  0.078356   \n",
      "BackyardSpace         0.103614  0.011389 -0.099095 -0.089521  0.967412   \n",
      "CrimeRate            -0.121532 -0.024764  0.596005  0.004683  0.059147   \n",
      "SchoolRating          0.384345 -0.087609 -0.228961  0.153557 -0.153734   \n",
      "AgeOfHome            -0.152288 -0.068004  0.156310  0.604301  0.106024   \n",
      "DistanceToCityCenter -0.211674  0.039570  0.065883  0.493164  0.126068   \n",
      "EmploymentRate        0.139473  0.008550 -0.582676  0.354862  0.016240   \n",
      "PropertyTaxRate      -0.156649  0.060134  0.148363  0.419589 -0.037351   \n",
      "RenovationQuality     0.431320 -0.068575 -0.002215  0.218630 -0.038417   \n",
      "LocalAmenities        0.213736  0.658439  0.106656  0.037748 -0.008392   \n",
      "TransportAccess       0.216714  0.655512  0.104244  0.038288 -0.001334   \n",
      "PreviousSalePrice     0.464633 -0.184514  0.239088  0.041484 -0.019006   \n",
      "\n",
      "                           PC6       PC7       PC8       PC9      PC10  \\\n",
      "SquareFootage         0.044555  0.072510 -0.561892  0.289277 -0.332073   \n",
      "NumBathrooms          0.046765 -0.014416  0.734994 -0.237071 -0.239367   \n",
      "BackyardSpace         0.108770 -0.032039 -0.060227  0.007009  0.126625   \n",
      "CrimeRate            -0.401590 -0.558427 -0.156546 -0.254114  0.232190   \n",
      "SchoolRating         -0.009624  0.012369  0.017672  0.051914  0.668789   \n",
      "AgeOfHome            -0.098147  0.563934 -0.149362 -0.467842  0.043732   \n",
      "DistanceToCityCenter -0.341422 -0.024448  0.285868  0.700544 -0.015013   \n",
      "EmploymentRate       -0.266760 -0.452220 -0.100934 -0.271023 -0.387100   \n",
      "PropertyTaxRate       0.789732 -0.370352 -0.010728  0.020697 -0.001144   \n",
      "RenovationQuality     0.009674 -0.116563 -0.012557  0.019966  0.319697   \n",
      "LocalAmenities       -0.027579  0.051678  0.000208 -0.024253 -0.059272   \n",
      "TransportAccess      -0.023947  0.048165  0.033014 -0.030836 -0.040024   \n",
      "PreviousSalePrice    -0.012772  0.051508  0.005975  0.085680 -0.236429   \n",
      "\n",
      "                          PC11      PC12      PC13  \n",
      "SquareFootage         0.026469 -0.141815 -0.484812  \n",
      "NumBathrooms         -0.009716 -0.110669 -0.366242  \n",
      "BackyardSpace        -0.003894 -0.038992  0.036215  \n",
      "CrimeRate             0.004920 -0.098697  0.001313  \n",
      "SchoolRating          0.017849 -0.537943 -0.068797  \n",
      "AgeOfHome             0.002291 -0.005913  0.023183  \n",
      "DistanceToCityCenter -0.001642 -0.017414  0.002059  \n",
      "EmploymentRate        0.008220 -0.074133  0.007551  \n",
      "PropertyTaxRate       0.002360 -0.084669  0.061857  \n",
      "RenovationQuality    -0.046022  0.797570 -0.072820  \n",
      "LocalAmenities       -0.702112 -0.080477 -0.030551  \n",
      "TransportAccess       0.709678 -0.008013 -0.027610  \n",
      "PreviousSalePrice     0.006604 -0.106469  0.783169  \n"
     ]
    }
   ],
   "source": [
    "from sklearn.decomposition import PCA\n",
    "\n",
    "pca = PCA()\n",
    "X_pca = pca.fit_transform(X_standardized_df)\n",
    "pca_columns = [f'PC{i+1}' for i in range(X_standardized_df.shape[1])]\n",
    "X_pca_df = pd.DataFrame(X_pca, columns=pca_columns)\n",
    "\n",
    "# Show the principal component loadings (matrix)\n",
    "loadings = pd.DataFrame(\n",
    "    pca.components_.T,\n",
    "    columns=pca_columns,\n",
    "    index=continuous_vars\n",
    ")\n",
    "print(\"Principal Component Loadings (Matrix):\")\n",
    "print(loadings)"
   ]
  },
  {
   "cell_type": "code",
   "execution_count": 7,
   "metadata": {},
   "outputs": [
    {
     "data": {
      "image/png": "[encoded data removed]",
      "text/plain": [
       "<Figure size 800x500 with 1 Axes>"
      ]
     },
     "metadata": {},
     "output_type": "display_data"
    }
   ],
   "source": [
    "import matplotlib.pyplot as plt\n",
    "\n",
    "explained_variance = pca.explained_variance_ratio_\n",
    "plt.figure(figsize=(8, 5))\n",
    "plt.plot(range(1, len(explained_variance) + 1), explained_variance, marker='o', linestyle='--')\n",
    "plt.title('Scree Plot')\n",
    "plt.xlabel('Principal Component')\n",
    "plt.ylabel('Explained Variance Ratio')\n",
    "plt.show()"
   ]
  },
  {
   "cell_type": "code",
   "execution_count": 8,
   "metadata": {},
   "outputs": [
    {
     "name": "stdout",
     "output_type": "stream",
     "text": [
      "Variance of Each Principal Component:\n",
      "[3.03147517 1.35072947 1.13224388 1.05071455 0.98422855 0.9293119\n",
      " 0.91196049 0.84624217 0.83090577 0.66206516 0.51195829 0.46356013\n",
      " 0.29646189]\n"
     ]
    }
   ],
   "source": [
    "# Variance of each principal component\n",
    "variance = pca.explained_variance_\n",
    "print(\"Variance of Each Principal Component:\")\n",
    "print(variance)"
   ]
  },
  {
   "cell_type": "code",
   "execution_count": 9,
   "metadata": {},
   "outputs": [
    {
     "name": "stdout",
     "output_type": "stream",
     "text": [
      "Cumulative Explained Variance:\n",
      "[0.23315709 0.33704451 0.42412775 0.5049404  0.58063947 0.65211479\n",
      " 0.72225558 0.78734183 0.85124853 0.90216934 0.94154512 0.9771985\n",
      " 1.        ]\n"
     ]
    }
   ],
   "source": [
    "# Cumulative explained variance\n",
    "cumulative_variance = pca.explained_variance_ratio_.cumsum()\n",
    "print(\"Cumulative Explained Variance:\")\n",
    "print(cumulative_variance)"
   ]
  },
  {
   "cell_type": "code",
   "execution_count": 16,
   "metadata": {},
   "outputs": [
    {
     "name": "stdout",
     "output_type": "stream",
     "text": [
      "Training and test datasets created.\n"
     ]
    }
   ],
   "source": [
    "from sklearn.model_selection import train_test_split\n",
    "\n",
    "n_components = 2  # Use 2 PCs\n",
    "X_reduced = X_pca_df.iloc[:, :n_components]\n",
    "X_train, X_test, y_train, y_test = train_test_split(X_reduced, y, test_size=0.2, random_state=42)\n",
    "\n",
    "# Save the datasets\n",
    "X_train.to_csv('X_train.csv', index=False)\n",
    "X_test.to_csv('X_test.csv', index=False)\n",
    "y_train.to_csv('y_train.csv', index=False)\n",
    "y_test.to_csv('y_test.csv', index=False)\n",
    "\n",
    "print(\"Training and test datasets created.\")"
   ]
  },
  {
   "cell_type": "code",
   "execution_count": 17,
   "metadata": {},
   "outputs": [
    {
     "name": "stdout",
     "output_type": "stream",
     "text": [
      "                            OLS Regression Results                            \n",
      "==============================================================================\n",
      "Dep. Variable:                  Price   R-squared:                       0.559\n",
      "Model:                            OLS   Adj. R-squared:                  0.558\n",
      "Method:                 Least Squares   F-statistic:                     3541.\n",
      "Date:                Sun, 01 Jun 2025   Prob (F-statistic):               0.00\n",
      "Time:                        00:09:19   Log-Likelihood:                -72448.\n",
      "No. Observations:                5600   AIC:                         1.449e+05\n",
      "Df Residuals:                    5597   BIC:                         1.449e+05\n",
      "Df Model:                           2                                         \n",
      "Covariance Type:            nonrobust                                         \n",
      "==============================================================================\n",
      "                 coef    std err          t      P>|t|      [0.025      0.975]\n",
      "------------------------------------------------------------------------------\n",
      "const       3.082e+05   1343.759    229.386      0.000    3.06e+05    3.11e+05\n",
      "PC1         6.245e+04    767.921     81.325      0.000    6.09e+04     6.4e+04\n",
      "PC2         -2.49e+04   1153.373    -21.591      0.000   -2.72e+04   -2.26e+04\n",
      "==============================================================================\n",
      "Omnibus:                      376.713   Durbin-Watson:                   1.984\n",
      "Prob(Omnibus):                  0.000   Jarque-Bera (JB):              473.984\n",
      "Skew:                           0.633   Prob(JB):                    1.19e-103\n",
      "Kurtosis:                       3.654   Cond. No.                         1.75\n",
      "==============================================================================\n",
      "\n",
      "Notes:\n",
      "[1] Standard Errors assume that the covariance matrix of the errors is correctly specified.\n",
      "Optimized Model Summary:\n",
      "                            OLS Regression Results                            \n",
      "==============================================================================\n",
      "Dep. Variable:                  Price   R-squared:                       0.559\n",
      "Model:                            OLS   Adj. R-squared:                  0.558\n",
      "Method:                 Least Squares   F-statistic:                     3541.\n",
      "Date:                Sun, 01 Jun 2025   Prob (F-statistic):               0.00\n",
      "Time:                        00:09:19   Log-Likelihood:                -72448.\n",
      "No. Observations:                5600   AIC:                         1.449e+05\n",
      "Df Residuals:                    5597   BIC:                         1.449e+05\n",
      "Df Model:                           2                                         \n",
      "Covariance Type:            nonrobust                                         \n",
      "==============================================================================\n",
      "                 coef    std err          t      P>|t|      [0.025      0.975]\n",
      "------------------------------------------------------------------------------\n",
      "const       3.082e+05   1343.759    229.386      0.000    3.06e+05    3.11e+05\n",
      "PC1         6.245e+04    767.921     81.325      0.000    6.09e+04     6.4e+04\n",
      "PC2         -2.49e+04   1153.373    -21.591      0.000   -2.72e+04   -2.26e+04\n",
      "==============================================================================\n",
      "Omnibus:                      376.713   Durbin-Watson:                   1.984\n",
      "Prob(Omnibus):                  0.000   Jarque-Bera (JB):              473.984\n",
      "Skew:                           0.633   Prob(JB):                    1.19e-103\n",
      "Kurtosis:                       3.654   Cond. No.                         1.75\n",
      "==============================================================================\n",
      "\n",
      "Notes:\n",
      "[1] Standard Errors assume that the covariance matrix of the errors is correctly specified.\n",
      "\n",
      "P-values of Independent Variables in the Optimized Model:\n",
      "const    0.000000e+00\n",
      "PC1      0.000000e+00\n",
      "PC2      2.259482e-99\n",
      "dtype: float64\n"
     ]
    }
   ],
   "source": [
    "import statsmodels.api as sm\n",
    "\n",
    "X_train_const = sm.add_constant(X_train)\n",
    "model = sm.OLS(y_train, X_train_const).fit()\n",
    "print(model.summary())\n",
    "\n",
    "# Backward elimination (optional, if needed)\n",
    "while True:\n",
    "    p_values = model.pvalues\n",
    "    max_p_value = p_values.max()\n",
    "    if max_p_value > 0.05:\n",
    "        excluded_feature = p_values.idxmax()\n",
    "        X_train_const = X_train_const.drop(columns=[excluded_feature])\n",
    "        model = sm.OLS(y_train, X_train_const).fit()\n",
    "    else:\n",
    "        break\n",
    "\n",
    "print(\"Optimized Model Summary:\")\n",
    "print(model.summary())\n",
    "print(\"\\nP-values of Independent Variables in the Optimized Model:\")\n",
    "print(model.pvalues)"
   ]
  },
  {
   "cell_type": "code",
   "execution_count": 18,
   "metadata": {},
   "outputs": [
    {
     "name": "stdout",
     "output_type": "stream",
     "text": [
      "Mean Squared Error (MSE) on Training Set: 10105682221.136793\n"
     ]
    }
   ],
   "source": [
    "from sklearn.metrics import mean_squared_error\n",
    "\n",
    "y_train_pred = model.predict(X_train_const)\n",
    "mse_train = mean_squared_error(y_train, y_train_pred)\n",
    "print(\"Mean Squared Error (MSE) on Training Set:\", mse_train)"
   ]
  },
  {
   "cell_type": "code",
   "execution_count": 19,
   "metadata": {},
   "outputs": [
    {
     "name": "stdout",
     "output_type": "stream",
     "text": [
      "Mean Squared Error (MSE) on Test Set: 9526684965.121933\n"
     ]
    }
   ],
   "source": [
    "# Prepare test set with same columns as training set\n",
    "X_test_const = sm.add_constant(X_test)\n",
    "X_test_const = X_test_const[X_train_const.columns]\n",
    "\n",
    "y_test_pred = model.predict(X_test_const)\n",
    "mse_test = mean_squared_error(y_test, y_test_pred)\n",
    "print(\"Mean Squared Error (MSE) on Test Set:\", mse_test)"
   ]
  },
  {
   "cell_type": "code",
   "execution_count": 20,
   "metadata": {},
   "outputs": [
    {
     "name": "stdout",
     "output_type": "stream",
     "text": [
      "Regression Equation:\n",
      "Price = 308239.06 + (62451.51 * PC1) + (-24902.14 * PC2) \n"
     ]
    }
   ],
   "source": [
    "# Extract the coefficients and intercept from the optimized model\n",
    "coefficients = model.params\n",
    "\n",
    "# Format the regression equation\n",
    "regression_equation = \"Price = \"\n",
    "for i, (feature, coef) in enumerate(coefficients.items()):\n",
    "    if i == 0:  # Intercept\n",
    "        regression_equation += f\"{coef:.2f} \"\n",
    "    else:\n",
    "        regression_equation += f\"+ ({coef:.2f} * {feature}) \"\n",
    "\n",
    "# Print the regression equation\n",
    "print(\"Regression Equation:\")\n",
    "print(regression_equation)"
   ]
  }
 ],
 "metadata": {
  "kernelspec": {
   "display_name": "Python 3",
   "language": "python",
   "name": "python3"
  },
  "language_info": {
   "codemirror_mode": {
    "name": "ipython",
    "version": 3
   },
   "file_extension": ".py",
   "mimetype": "text/x-python",
   "name": "python",
   "nbconvert_exporter": "python",
   "pygments_lexer": "ipython3",
   "version": "3.13.3"
  }
 },
 "nbformat": 4,
 "nbformat_minor": 2
}
